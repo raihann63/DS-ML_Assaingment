{
 "cells": [
  {
   "cell_type": "code",
   "execution_count": 1,
   "id": "21976b18",
   "metadata": {},
   "outputs": [],
   "source": [
    "import pandas as pd\n",
    "import numpy as np\n",
    "import matplotlib.pyplot as plt\n",
    "from sklearn.linear_model import LinearRegression"
   ]
  },
  {
   "cell_type": "code",
   "execution_count": 2,
   "id": "34200fbd",
   "metadata": {},
   "outputs": [],
   "source": [
    "weight = np.array([2, 4, 5, 3, 6, 5, 7])\n",
    "price = np.array([35, 60, 20, 50, 50, 55, 60])"
   ]
  },
  {
   "cell_type": "code",
   "execution_count": 3,
   "id": "4ba8456f",
   "metadata": {},
   "outputs": [
    {
     "data": {
      "text/html": [
       "<div>\n",
       "<style scoped>\n",
       "    .dataframe tbody tr th:only-of-type {\n",
       "        vertical-align: middle;\n",
       "    }\n",
       "\n",
       "    .dataframe tbody tr th {\n",
       "        vertical-align: top;\n",
       "    }\n",
       "\n",
       "    .dataframe thead th {\n",
       "        text-align: right;\n",
       "    }\n",
       "</style>\n",
       "<table border=\"1\" class=\"dataframe\">\n",
       "  <thead>\n",
       "    <tr style=\"text-align: right;\">\n",
       "      <th></th>\n",
       "      <th>weight</th>\n",
       "      <th>price</th>\n",
       "    </tr>\n",
       "  </thead>\n",
       "  <tbody>\n",
       "    <tr>\n",
       "      <th>0</th>\n",
       "      <td>2</td>\n",
       "      <td>35</td>\n",
       "    </tr>\n",
       "    <tr>\n",
       "      <th>1</th>\n",
       "      <td>4</td>\n",
       "      <td>60</td>\n",
       "    </tr>\n",
       "    <tr>\n",
       "      <th>2</th>\n",
       "      <td>5</td>\n",
       "      <td>20</td>\n",
       "    </tr>\n",
       "    <tr>\n",
       "      <th>3</th>\n",
       "      <td>3</td>\n",
       "      <td>50</td>\n",
       "    </tr>\n",
       "    <tr>\n",
       "      <th>4</th>\n",
       "      <td>6</td>\n",
       "      <td>50</td>\n",
       "    </tr>\n",
       "    <tr>\n",
       "      <th>5</th>\n",
       "      <td>5</td>\n",
       "      <td>55</td>\n",
       "    </tr>\n",
       "    <tr>\n",
       "      <th>6</th>\n",
       "      <td>7</td>\n",
       "      <td>60</td>\n",
       "    </tr>\n",
       "  </tbody>\n",
       "</table>\n",
       "</div>"
      ],
      "text/plain": [
       "   weight  price\n",
       "0       2     35\n",
       "1       4     60\n",
       "2       5     20\n",
       "3       3     50\n",
       "4       6     50\n",
       "5       5     55\n",
       "6       7     60"
      ]
     },
     "execution_count": 3,
     "metadata": {},
     "output_type": "execute_result"
    }
   ],
   "source": [
    "df = pd.DataFrame({'weight': weight, 'price': price})\n",
    "df"
   ]
  },
  {
   "cell_type": "code",
   "execution_count": 4,
   "id": "30830be6",
   "metadata": {},
   "outputs": [],
   "source": [
    "weight = df[['weight']]\n",
    "price = df['price']"
   ]
  },
  {
   "cell_type": "code",
   "execution_count": 5,
   "id": "ae711d33",
   "metadata": {},
   "outputs": [
    {
     "data": {
      "image/png": "[encoded data removed]",
      "text/plain": [
       "<Figure size 640x480 with 1 Axes>"
      ]
     },
     "metadata": {},
     "output_type": "display_data"
    }
   ],
   "source": [
    "plt.scatter(df['weight'],df['price'],marker='*')\n",
    "plt.xlabel('weight')\n",
    "plt.ylabel('price')\n",
    "plt.show()\n",
    "#plt.title(\"Linear Regression of Vegetable Weight vs Price\")"
   ]
  },
  {
   "cell_type": "markdown",
   "id": "f223b1a0",
   "metadata": {},
   "source": [
    "Using sklearn to perform linear regression"
   ]
  },
  {
   "cell_type": "code",
   "execution_count": 6,
   "id": "bd8a7a80",
   "metadata": {},
   "outputs": [],
   "source": [
    "model = LinearRegression().fit(weight, price) #training model"
   ]
  },
  {
   "cell_type": "code",
   "execution_count": 7,
   "id": "ad7f4705",
   "metadata": {},
   "outputs": [
    {
     "data": {
      "text/plain": [
       "array([2.62096774])"
      ]
     },
     "execution_count": 7,
     "metadata": {},
     "output_type": "execute_result"
    }
   ],
   "source": [
    "slope_sklearn = model.coef_\n",
    "slope_sklearn"
   ]
  },
  {
   "cell_type": "code",
   "execution_count": 8,
   "id": "ce86ffa0",
   "metadata": {},
   "outputs": [
    {
     "data": {
      "text/plain": [
       "35.16129032258065"
      ]
     },
     "execution_count": 8,
     "metadata": {},
     "output_type": "execute_result"
    }
   ],
   "source": [
    "intercept_sklearn = model.intercept_\n",
    "intercept_sklearn"
   ]
  },
  {
   "cell_type": "markdown",
   "id": "77c11c58",
   "metadata": {},
   "source": [
    "# Task 01:Your objective is to manually compute the slope (M) and y-intercept (C) usingOrdinary Least Squares Linear Regression. Once determined, apply these values topredict the price when the vegetable weight is 6."
   ]
  },
  {
   "cell_type": "markdown",
   "id": "2259b6a8",
   "metadata": {},
   "source": [
    "Predict price when vegetable weight is 6\n",
    "Y = M * X + C"
   ]
  },
  {
   "cell_type": "code",
   "execution_count": 9,
   "id": "b7680a06",
   "metadata": {},
   "outputs": [],
   "source": [
    "predicted_price = slope_sklearn * 6 + intercept_sklearn"
   ]
  },
  {
   "cell_type": "code",
   "execution_count": 10,
   "id": "8d0e5f6b",
   "metadata": {},
   "outputs": [
    {
     "data": {
      "text/plain": [
       "array([50.88709677])"
      ]
     },
     "execution_count": 10,
     "metadata": {},
     "output_type": "execute_result"
    }
   ],
   "source": [
    "predicted_price"
   ]
  },
  {
   "cell_type": "markdown",
   "id": "831e0133",
   "metadata": {},
   "source": [
    "# Task 02:Compute the residuals for each data point."
   ]
  },
  {
   "cell_type": "markdown",
   "id": "59ebcba1",
   "metadata": {},
   "source": [
    "Process-01:"
   ]
  },
  {
   "cell_type": "code",
   "execution_count": 11,
   "id": "d669a1d9",
   "metadata": {},
   "outputs": [
    {
     "data": {
      "text/html": [
       "<div>\n",
       "<style scoped>\n",
       "    .dataframe tbody tr th:only-of-type {\n",
       "        vertical-align: middle;\n",
       "    }\n",
       "\n",
       "    .dataframe tbody tr th {\n",
       "        vertical-align: top;\n",
       "    }\n",
       "\n",
       "    .dataframe thead th {\n",
       "        text-align: right;\n",
       "    }\n",
       "</style>\n",
       "<table border=\"1\" class=\"dataframe\">\n",
       "  <thead>\n",
       "    <tr style=\"text-align: right;\">\n",
       "      <th></th>\n",
       "      <th>weight</th>\n",
       "    </tr>\n",
       "  </thead>\n",
       "  <tbody>\n",
       "    <tr>\n",
       "      <th>0</th>\n",
       "      <td>2</td>\n",
       "    </tr>\n",
       "    <tr>\n",
       "      <th>1</th>\n",
       "      <td>4</td>\n",
       "    </tr>\n",
       "    <tr>\n",
       "      <th>2</th>\n",
       "      <td>5</td>\n",
       "    </tr>\n",
       "    <tr>\n",
       "      <th>3</th>\n",
       "      <td>3</td>\n",
       "    </tr>\n",
       "    <tr>\n",
       "      <th>4</th>\n",
       "      <td>6</td>\n",
       "    </tr>\n",
       "    <tr>\n",
       "      <th>5</th>\n",
       "      <td>5</td>\n",
       "    </tr>\n",
       "    <tr>\n",
       "      <th>6</th>\n",
       "      <td>7</td>\n",
       "    </tr>\n",
       "  </tbody>\n",
       "</table>\n",
       "</div>"
      ],
      "text/plain": [
       "   weight\n",
       "0       2\n",
       "1       4\n",
       "2       5\n",
       "3       3\n",
       "4       6\n",
       "5       5\n",
       "6       7"
      ]
     },
     "execution_count": 11,
     "metadata": {},
     "output_type": "execute_result"
    }
   ],
   "source": [
    "weight"
   ]
  },
  {
   "cell_type": "code",
   "execution_count": 12,
   "id": "1f8c91e0",
   "metadata": {},
   "outputs": [
    {
     "data": {
      "text/plain": [
       "array([40.40322581, 45.64516129, 48.26612903, 43.02419355, 50.88709677,\n",
       "       48.26612903, 53.50806452])"
      ]
     },
     "execution_count": 12,
     "metadata": {},
     "output_type": "execute_result"
    }
   ],
   "source": [
    "model.predict(weight)  #df['y_hat'] = model.predict(X)\n"
   ]
  },
  {
   "cell_type": "markdown",
   "id": "328d8bad",
   "metadata": {},
   "source": [
    "Process-02:"
   ]
  },
  {
   "cell_type": "code",
   "execution_count": 13,
   "id": "f5c25371",
   "metadata": {},
   "outputs": [],
   "source": [
    "df['Y_predicted'] = slope_sklearn * weight + intercept_sklearn"
   ]
  },
  {
   "cell_type": "code",
   "execution_count": 14,
   "id": "db46c56d",
   "metadata": {},
   "outputs": [
    {
     "data": {
      "text/plain": [
       "0    40.403226\n",
       "1    45.645161\n",
       "2    48.266129\n",
       "3    43.024194\n",
       "4    50.887097\n",
       "5    48.266129\n",
       "6    53.508065\n",
       "Name: Y_predicted, dtype: float64"
      ]
     },
     "execution_count": 14,
     "metadata": {},
     "output_type": "execute_result"
    }
   ],
   "source": [
    "df['Y_predicted']"
   ]
  },
  {
   "cell_type": "markdown",
   "id": "0287888b",
   "metadata": {},
   "source": [
    "Process-03"
   ]
  },
  {
   "cell_type": "code",
   "execution_count": 15,
   "id": "ebe522bc",
   "metadata": {},
   "outputs": [],
   "source": [
    "df['Residual'] = predicted_price - df['Y_predicted']"
   ]
  },
  {
   "cell_type": "code",
   "execution_count": 16,
   "id": "221bf05a",
   "metadata": {},
   "outputs": [
    {
     "data": {
      "text/plain": [
       "0    10.483871\n",
       "1     5.241935\n",
       "2     2.620968\n",
       "3     7.862903\n",
       "4     0.000000\n",
       "5     2.620968\n",
       "6    -2.620968\n",
       "Name: Residual, dtype: float64"
      ]
     },
     "execution_count": 16,
     "metadata": {},
     "output_type": "execute_result"
    }
   ],
   "source": [
    "df['Residual']"
   ]
  },
  {
   "cell_type": "markdown",
   "id": "33668e9f",
   "metadata": {},
   "source": [
    "Process-04:"
   ]
  },
  {
   "cell_type": "code",
   "execution_count": 17,
   "id": "a9a3b7f1",
   "metadata": {},
   "outputs": [],
   "source": [
    "df['Y_predicted'] = slope_sklearn * weight + intercept_sklearn\n",
    "df['Residual'] = predicted_price - df['Y_predicted']"
   ]
  },
  {
   "cell_type": "code",
   "execution_count": 18,
   "id": "ba141bfb",
   "metadata": {},
   "outputs": [
    {
     "name": "stdout",
     "output_type": "stream",
     "text": [
      "   weight  price  Y_predicted   Residual\n",
      "0       2     35    40.403226  10.483871\n",
      "1       4     60    45.645161   5.241935\n",
      "2       5     20    48.266129   2.620968\n",
      "3       3     50    43.024194   7.862903\n",
      "4       6     50    50.887097   0.000000\n",
      "5       5     55    48.266129   2.620968\n",
      "6       7     60    53.508065  -2.620968\n"
     ]
    }
   ],
   "source": [
    "#df['Y_predicted']\n",
    "#df['Residual']\n",
    "print(df[['weight', 'price', 'Y_predicted', 'Residual']])"
   ]
  },
  {
   "cell_type": "markdown",
   "id": "801da729",
   "metadata": {},
   "source": [
    "Process-05:"
   ]
  },
  {
   "cell_type": "code",
   "execution_count": 19,
   "id": "c2663d67",
   "metadata": {},
   "outputs": [
    {
     "data": {
      "text/html": [
       "<div>\n",
       "<style scoped>\n",
       "    .dataframe tbody tr th:only-of-type {\n",
       "        vertical-align: middle;\n",
       "    }\n",
       "\n",
       "    .dataframe tbody tr th {\n",
       "        vertical-align: top;\n",
       "    }\n",
       "\n",
       "    .dataframe thead th {\n",
       "        text-align: right;\n",
       "    }\n",
       "</style>\n",
       "<table border=\"1\" class=\"dataframe\">\n",
       "  <thead>\n",
       "    <tr style=\"text-align: right;\">\n",
       "      <th></th>\n",
       "      <th>weight</th>\n",
       "      <th>price</th>\n",
       "      <th>Y_predicted</th>\n",
       "      <th>Residual</th>\n",
       "      <th>Residuals</th>\n",
       "    </tr>\n",
       "  </thead>\n",
       "  <tbody>\n",
       "    <tr>\n",
       "      <th>0</th>\n",
       "      <td>2</td>\n",
       "      <td>35</td>\n",
       "      <td>40.403226</td>\n",
       "      <td>10.483871</td>\n",
       "      <td>-5.403226</td>\n",
       "    </tr>\n",
       "    <tr>\n",
       "      <th>1</th>\n",
       "      <td>4</td>\n",
       "      <td>60</td>\n",
       "      <td>45.645161</td>\n",
       "      <td>5.241935</td>\n",
       "      <td>14.354839</td>\n",
       "    </tr>\n",
       "    <tr>\n",
       "      <th>2</th>\n",
       "      <td>5</td>\n",
       "      <td>20</td>\n",
       "      <td>48.266129</td>\n",
       "      <td>2.620968</td>\n",
       "      <td>-28.266129</td>\n",
       "    </tr>\n",
       "    <tr>\n",
       "      <th>3</th>\n",
       "      <td>3</td>\n",
       "      <td>50</td>\n",
       "      <td>43.024194</td>\n",
       "      <td>7.862903</td>\n",
       "      <td>6.975806</td>\n",
       "    </tr>\n",
       "    <tr>\n",
       "      <th>4</th>\n",
       "      <td>6</td>\n",
       "      <td>50</td>\n",
       "      <td>50.887097</td>\n",
       "      <td>0.000000</td>\n",
       "      <td>-0.887097</td>\n",
       "    </tr>\n",
       "    <tr>\n",
       "      <th>5</th>\n",
       "      <td>5</td>\n",
       "      <td>55</td>\n",
       "      <td>48.266129</td>\n",
       "      <td>2.620968</td>\n",
       "      <td>6.733871</td>\n",
       "    </tr>\n",
       "    <tr>\n",
       "      <th>6</th>\n",
       "      <td>7</td>\n",
       "      <td>60</td>\n",
       "      <td>53.508065</td>\n",
       "      <td>-2.620968</td>\n",
       "      <td>6.491935</td>\n",
       "    </tr>\n",
       "  </tbody>\n",
       "</table>\n",
       "</div>"
      ],
      "text/plain": [
       "   weight  price  Y_predicted   Residual  Residuals\n",
       "0       2     35    40.403226  10.483871  -5.403226\n",
       "1       4     60    45.645161   5.241935  14.354839\n",
       "2       5     20    48.266129   2.620968 -28.266129\n",
       "3       3     50    43.024194   7.862903   6.975806\n",
       "4       6     50    50.887097   0.000000  -0.887097\n",
       "5       5     55    48.266129   2.620968   6.733871\n",
       "6       7     60    53.508065  -2.620968   6.491935"
      ]
     },
     "execution_count": 19,
     "metadata": {},
     "output_type": "execute_result"
    }
   ],
   "source": [
    "df['Residuals'] = df['price'] - df['Y_predicted']\n",
    "df"
   ]
  },
  {
   "cell_type": "markdown",
   "id": "9e217c2e",
   "metadata": {},
   "source": [
    "We see graph for Y_predicted value"
   ]
  },
  {
   "cell_type": "code",
   "execution_count": 20,
   "id": "d3d03cf9",
   "metadata": {},
   "outputs": [
    {
     "data": {
      "text/plain": [
       "Text(0, 0.5, 'Y_predicted')"
      ]
     },
     "execution_count": 20,
     "metadata": {},
     "output_type": "execute_result"
    },
    {
     "data": {
      "image/png": "[encoded data removed]",
      "text/plain": [
       "<Figure size 640x480 with 1 Axes>"
      ]
     },
     "metadata": {},
     "output_type": "display_data"
    }
   ],
   "source": [
    "plt.scatter(df.weight,df.Y_predicted,marker='*',color='black')\n",
    "plt.xlabel('weight')\n",
    "plt.ylabel('Y_predicted')"
   ]
  },
  {
   "cell_type": "code",
   "execution_count": 21,
   "id": "2b3215b1",
   "metadata": {},
   "outputs": [
    {
     "data": {
      "text/plain": [
       "Text(0.5, 1.0, 'Linear Regression of Vegetable Weight vs Price')"
      ]
     },
     "execution_count": 21,
     "metadata": {},
     "output_type": "execute_result"
    },
    {
     "data": {
      "image/png": "[encoded data removed]",
      "text/plain": [
       "<Figure size 640x480 with 1 Axes>"
      ]
     },
     "metadata": {},
     "output_type": "display_data"
    }
   ],
   "source": [
    "plt.scatter(df['weight'],df['price'],marker='*',color='black')\n",
    "plt.scatter(df['weight'],df['Y_predicted'],marker='o',color='red')\n",
    "plt.plot(df['weight'],df['Y_predicted'])\n",
    "plt.xlabel('weight')\n",
    "plt.ylabel('Price [Count from Y_predicted value]')\n",
    "plt.title(\"Linear Regression of Vegetable Weight vs Price\")\n"
   ]
  },
  {
   "cell_type": "markdown",
   "id": "58a104dc",
   "metadata": {},
   "source": [
    "# Task 03: Calculate both the Mean Squared Error (MSE) and Mean Absolute Error (MAE).\n"
   ]
  },
  {
   "cell_type": "code",
   "execution_count": 22,
   "id": "0bc5261d",
   "metadata": {},
   "outputs": [
    {
     "name": "stdout",
     "output_type": "stream",
     "text": [
      "Mean Squared Error= 31.403300133789212\n",
      "Mean Absolute Error= 4.493087557603688\n"
     ]
    }
   ],
   "source": [
    "MSE = np.mean(df['Residual']**2)\n",
    "MAE = np.mean(abs(df['Residual']))\n",
    "\n",
    "print(f'Mean Squared Error= {MSE}')\n",
    "print(f'Mean Absolute Error= {MAE}')"
   ]
  },
  {
   "cell_type": "code",
   "execution_count": 23,
   "id": "3ef5221b",
   "metadata": {},
   "outputs": [],
   "source": [
    "import pandas as pd\n",
    "import numpy as np\n",
    "from matplotlib import pyplot as plt\n",
    "import warnings \n",
    "warnings.filterwarnings('ignore')"
   ]
  },
  {
   "cell_type": "code",
   "execution_count": 24,
   "id": "794f0a04",
   "metadata": {},
   "outputs": [
    {
     "data": {
      "text/html": [
       "<div>\n",
       "<style scoped>\n",
       "    .dataframe tbody tr th:only-of-type {\n",
       "        vertical-align: middle;\n",
       "    }\n",
       "\n",
       "    .dataframe tbody tr th {\n",
       "        vertical-align: top;\n",
       "    }\n",
       "\n",
       "    .dataframe thead th {\n",
       "        text-align: right;\n",
       "    }\n",
       "</style>\n",
       "<table border=\"1\" class=\"dataframe\">\n",
       "  <thead>\n",
       "    <tr style=\"text-align: right;\">\n",
       "      <th></th>\n",
       "      <th>Project-01</th>\n",
       "      <th>Unnamed: 1</th>\n",
       "      <th>Unnamed: 2</th>\n",
       "      <th>Unnamed: 3</th>\n",
       "      <th>Unnamed: 4</th>\n",
       "      <th>Unnamed: 5</th>\n",
       "      <th>Unnamed: 6</th>\n",
       "      <th>Unnamed: 7</th>\n",
       "    </tr>\n",
       "  </thead>\n",
       "  <tbody>\n",
       "    <tr>\n",
       "      <th>0</th>\n",
       "      <td>Name</td>\n",
       "      <td>Name_U</td>\n",
       "      <td>Name_L</td>\n",
       "      <td>Name_S</td>\n",
       "      <td>Salary</td>\n",
       "      <td>NaN</td>\n",
       "      <td>NaN</td>\n",
       "      <td>NaN</td>\n",
       "    </tr>\n",
       "    <tr>\n",
       "      <th>1</th>\n",
       "      <td>RaihAN</td>\n",
       "      <td>RAIHAN</td>\n",
       "      <td>raihan</td>\n",
       "      <td>Raihan</td>\n",
       "      <td>50000</td>\n",
       "      <td>NaN</td>\n",
       "      <td>NaN</td>\n",
       "      <td>NaN</td>\n",
       "    </tr>\n",
       "    <tr>\n",
       "      <th>2</th>\n",
       "      <td>rOY</td>\n",
       "      <td>ROY</td>\n",
       "      <td>roy</td>\n",
       "      <td>Roy</td>\n",
       "      <td>20000</td>\n",
       "      <td>NaN</td>\n",
       "      <td>NaN</td>\n",
       "      <td>NaN</td>\n",
       "    </tr>\n",
       "    <tr>\n",
       "      <th>3</th>\n",
       "      <td>rASel</td>\n",
       "      <td>RASEL</td>\n",
       "      <td>rasel</td>\n",
       "      <td>Rasel</td>\n",
       "      <td>22000</td>\n",
       "      <td>NaN</td>\n",
       "      <td>NaN</td>\n",
       "      <td>NaN</td>\n",
       "    </tr>\n",
       "    <tr>\n",
       "      <th>4</th>\n",
       "      <td>asif</td>\n",
       "      <td>ASIF</td>\n",
       "      <td>asif</td>\n",
       "      <td>Asif</td>\n",
       "      <td>33000</td>\n",
       "      <td>NaN</td>\n",
       "      <td>TOTAL salary</td>\n",
       "      <td>315000.0</td>\n",
       "    </tr>\n",
       "  </tbody>\n",
       "</table>\n",
       "</div>"
      ],
      "text/plain": [
       "  Project-01 Unnamed: 1 Unnamed: 2 Unnamed: 3 Unnamed: 4  Unnamed: 5  \\\n",
       "0       Name     Name_U     Name_L     Name_S     Salary         NaN   \n",
       "1     RaihAN     RAIHAN     raihan     Raihan      50000         NaN   \n",
       "2        rOY        ROY        roy        Roy      20000         NaN   \n",
       "3      rASel      RASEL      rasel      Rasel      22000         NaN   \n",
       "4       asif       ASIF       asif       Asif      33000         NaN   \n",
       "\n",
       "     Unnamed: 6  Unnamed: 7  \n",
       "0           NaN         NaN  \n",
       "1           NaN         NaN  \n",
       "2           NaN         NaN  \n",
       "3           NaN         NaN  \n",
       "4  TOTAL salary    315000.0  "
      ]
     },
     "execution_count": 24,
     "metadata": {},
     "output_type": "execute_result"
    }
   ],
   "source": [
    "# Reading Excel file\n",
    "df = pd.read_excel('Book1.xlsx')\n",
    "\n",
    "# Display the first few rows of the dataset\n",
    "df.head()\n"
   ]
  },
  {
   "cell_type": "code",
   "execution_count": null,
   "id": "d699f8a6",
   "metadata": {},
   "outputs": [],
   "source": []
  }
 ],
 "metadata": {
  "kernelspec": {
   "display_name": "Python 3 (ipykernel)",
   "language": "python",
   "name": "python3"
  },
  "language_info": {
   "codemirror_mode": {
    "name": "ipython",
    "version": 3
   },
   "file_extension": ".py",
   "mimetype": "text/x-python",
   "name": "python",
   "nbconvert_exporter": "python",
   "pygments_lexer": "ipython3",
   "version": "3.11.4"
  }
 },
 "nbformat": 4,
 "nbformat_minor": 5
}
