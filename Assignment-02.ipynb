{
 "cells": [
  {
   "cell_type": "markdown",
   "id": "c84c217c",
   "metadata": {},
   "source": [
    "# Variables Problem"
   ]
  },
  {
   "cell_type": "code",
   "execution_count": 1,
   "id": "86c53eb7",
   "metadata": {},
   "outputs": [
    {
     "name": "stdout",
     "output_type": "stream",
     "text": [
      "Before swapping:\n",
      "a = 5\n",
      "b = 10\n",
      "After swapping:\n",
      "a = 10\n",
      "b = 5\n"
     ]
    }
   ],
   "source": [
    "#Problem-1: Write a program that swaps the values of two variables.\n",
    "\n",
    "# Swap values of two variables\n",
    "a = 5\n",
    "b = 10\n",
    "\n",
    "print(\"Before swapping:\")\n",
    "print(\"a =\", a)\n",
    "print(\"b =\", b)\n",
    "\n",
    "# Swapping values\n",
    "a, b = b, a\n",
    "\n",
    "print(\"After swapping:\")\n",
    "print(\"a =\", a)\n",
    "print(\"b =\", b)\n"
   ]
  },
  {
   "cell_type": "code",
   "execution_count": 2,
   "id": "b3e000aa",
   "metadata": {},
   "outputs": [
    {
     "name": "stdout",
     "output_type": "stream",
     "text": [
      "Enter the length of the rectangle: 3\n",
      "Enter the width of the rectangle: 4\n",
      "The area of the rectangle is: 12.0\n"
     ]
    }
   ],
   "source": [
    "#Problem-2: Write a program that calculates the area of a rectangle given its length and width.\n",
    "\n",
    "# Calculate the area of a rectangle\n",
    "length = float(input(\"Enter the length of the rectangle: \"))\n",
    "width = float(input(\"Enter the width of the rectangle: \"))\n",
    "\n",
    "area = length * width\n",
    "\n",
    "print(\"The area of the rectangle is:\", area)\n"
   ]
  },
  {
   "cell_type": "code",
   "execution_count": 3,
   "id": "8a21d281",
   "metadata": {},
   "outputs": [
    {
     "name": "stdout",
     "output_type": "stream",
     "text": [
      "Enter temperature in Fahrenheit: 102\n",
      "Temperature in Celsius: 38.888888888888886\n"
     ]
    }
   ],
   "source": [
    "#Problem-3: Write a program that converts temperature from Fahrenheit to Celsius.\n",
    "\n",
    "# Convert temperature from Fahrenheit to Celsius\n",
    "fahrenheit = float(input(\"Enter temperature in Fahrenheit: \"))\n",
    "\n",
    "celsius = (fahrenheit - 32) * 5 / 9\n",
    "\n",
    "print(\"Temperature in Celsius:\", celsius)\n"
   ]
  },
  {
   "cell_type": "code",
   "execution_count": 4,
   "id": "02c54e35",
   "metadata": {},
   "outputs": [
    {
     "name": "stdout",
     "output_type": "stream",
     "text": [
      "Enter the radius of the sphere: 3\n",
      "The volume of the sphere is: 113.09733552923254\n"
     ]
    }
   ],
   "source": [
    "#Problem-4:Write a program that calculates the volume of a sphere given its radius.\n",
    "\n",
    "import math\n",
    "\n",
    "# Calculate the volume of a sphere\n",
    "radius = float(input(\"Enter the radius of the sphere: \"))\n",
    "\n",
    "volume = (4 / 3) * math.pi * (radius ** 3)\n",
    "\n",
    "print(\"The volume of the sphere is:\", volume)\n"
   ]
  },
  {
   "cell_type": "code",
   "execution_count": 5,
   "id": "74db3650",
   "metadata": {},
   "outputs": [
    {
     "name": "stdout",
     "output_type": "stream",
     "text": [
      "Enter the first number: 4\n",
      "Enter the second number: 5\n",
      "Enter the third number: 6\n",
      "The average of the three numbers is: 5.0\n"
     ]
    }
   ],
   "source": [
    "#Problem-5:Write a program that finds the average of three numbers.\n",
    "\n",
    "# Calculate the average of three numbers\n",
    "num1 = float(input(\"Enter the first number: \"))\n",
    "num2 = float(input(\"Enter the second number: \"))\n",
    "num3 = float(input(\"Enter the third number: \"))\n",
    "\n",
    "average = (num1 + num2 + num3) / 3\n",
    "\n",
    "print(\"The average of the three numbers is:\", average)\n"
   ]
  },
  {
   "cell_type": "markdown",
   "id": "9592f2c8",
   "metadata": {},
   "source": [
    "# If-elif-else Problem"
   ]
  },
  {
   "cell_type": "code",
   "execution_count": 6,
   "id": "198abbb4",
   "metadata": {},
   "outputs": [
    {
     "name": "stdout",
     "output_type": "stream",
     "text": [
      "Enter a number: 6\n",
      "6 is even.\n"
     ]
    }
   ],
   "source": [
    "#Problem-6: Write a program that determines if a number is even or odd.\n",
    "\n",
    "# Determine if a number is even or odd\n",
    "number = int(input(\"Enter a number: \"))\n",
    "\n",
    "if number % 2 == 0:\n",
    "    print(number, \"is even.\")\n",
    "else:\n",
    "    print(number, \"is odd.\")\n"
   ]
  },
  {
   "cell_type": "code",
   "execution_count": 7,
   "id": "e98b42d3",
   "metadata": {},
   "outputs": [
    {
     "name": "stdout",
     "output_type": "stream",
     "text": [
      "Enter the first number: 11\n",
      "Enter the second number: 22\n",
      "Enter the third number: 33\n",
      "The maximum number is: 33.0\n"
     ]
    }
   ],
   "source": [
    "#Problem-7: Write a program that finds the maximum of three numbers.\n",
    "\n",
    "# Find the maximum of three numbers\n",
    "num1 = float(input(\"Enter the first number: \"))\n",
    "num2 = float(input(\"Enter the second number: \"))\n",
    "num3 = float(input(\"Enter the third number: \"))\n",
    "\n",
    "maximum = max(num1, num2, num3)\n",
    "\n",
    "print(\"The maximum number is:\", maximum)\n"
   ]
  },
  {
   "cell_type": "code",
   "execution_count": 8,
   "id": "8f1f7363",
   "metadata": {},
   "outputs": [
    {
     "name": "stdout",
     "output_type": "stream",
     "text": [
      "Enter a year: 2024\n",
      "2024 is a leap year.\n"
     ]
    }
   ],
   "source": [
    "#Problem-8: Write a program that determines if a year is a leap year or not.\n",
    "\n",
    "# Determine if a year is a leap year\n",
    "year = int(input(\"Enter a year: \"))\n",
    "\n",
    "if (year % 4 == 0 and year % 100 != 0) or (year % 400 == 0):\n",
    "    print(year, \"is a leap year.\")\n",
    "else:\n",
    "    print(year, \"is not a leap year.\")\n"
   ]
  },
  {
   "cell_type": "code",
   "execution_count": 9,
   "id": "3f3ae071",
   "metadata": {},
   "outputs": [
    {
     "name": "stdout",
     "output_type": "stream",
     "text": [
      "Enter a number: 5\n",
      "5.0 is positive.\n"
     ]
    }
   ],
   "source": [
    "#Problem-9: Write a program that determines if a number is positive, negative, or zero.\n",
    "\n",
    "# Determine if a number is positive, negative, or zero\n",
    "number = float(input(\"Enter a number: \"))\n",
    "\n",
    "if number > 0:\n",
    "    print(number, \"is positive.\")\n",
    "elif number < 0:\n",
    "    print(number, \"is negative.\")\n",
    "else:\n",
    "    print(number, \"is zero.\")\n"
   ]
  },
  {
   "cell_type": "code",
   "execution_count": 10,
   "id": "d2f3514e",
   "metadata": {},
   "outputs": [
    {
     "name": "stdout",
     "output_type": "stream",
     "text": [
      "Enter the percentage: 80\n",
      "The grade is: A+\n"
     ]
    }
   ],
   "source": [
    "#Problem-10: Write a program that calculates the grade based on a given percentage.\n",
    "\n",
    "# Calculate the grade based on a given percentage\n",
    "percentage = float(input(\"Enter the percentage: \"))\n",
    "\n",
    "if percentage >= 80:\n",
    "    grade = 'A+'\n",
    "elif percentage >= 75:\n",
    "    grade = 'A'\n",
    "elif percentage >= 70:\n",
    "    grade = 'A-'\n",
    "elif percentage >= 65:\n",
    "    grade = 'B+'\n",
    "elif percentage >= 60:\n",
    "    grade = 'B'\n",
    "elif percentage >= 55:\n",
    "    grade = 'B-'\n",
    "elif percentage >= 45:\n",
    "    grade = 'C'\n",
    "elif percentage >= 40:\n",
    "    grade = 'D'\n",
    "else:\n",
    "    grade = 'F'\n",
    "\n",
    "print(\"The grade is:\", grade)\n",
    "\n"
   ]
  },
  {
   "cell_type": "markdown",
   "id": "10f9912e",
   "metadata": {},
   "source": [
    "# For Loop Problem"
   ]
  },
  {
   "cell_type": "code",
   "execution_count": 11,
   "id": "4c783a81",
   "metadata": {},
   "outputs": [
    {
     "name": "stdout",
     "output_type": "stream",
     "text": [
      "Enter the value of n: 10\n",
      "The first 10 natural numbers are:\n",
      "1 2 3 4 5 6 7 8 9 10 \n"
     ]
    }
   ],
   "source": [
    "#Problem-11: Write a program that prints the first `n` natural numbers.\n",
    "\n",
    "# Print the first n natural numbers\n",
    "n = int(input(\"Enter the value of n: \"))\n",
    "\n",
    "print(\"The first\", n, \"natural numbers are:\")\n",
    "for i in range(1, n + 1):\n",
    "    print(i, end=\" \")\n",
    "print()  # Move to the next line after printing all numbers\n"
   ]
  },
  {
   "cell_type": "code",
   "execution_count": 12,
   "id": "f843d8d1",
   "metadata": {},
   "outputs": [
    {
     "name": "stdout",
     "output_type": "stream",
     "text": [
      "Enter a number: 5\n",
      "The factorial of 5 is: 120\n"
     ]
    }
   ],
   "source": [
    "#Problem-12: Write a program that calculates the factorial of a number.\n",
    "\n",
    "# Calculate the factorial of a number using a for loop\n",
    "number = int(input(\"Enter a number: \"))\n",
    "\n",
    "factorial = 1\n",
    "for i in range(1, number + 1):\n",
    "    factorial = factorial * i\n",
    "    #factorial *= i\n",
    "\n",
    "print(\"The factorial of\", number, \"is:\", factorial)\n",
    "\n"
   ]
  },
  {
   "cell_type": "code",
   "execution_count": 13,
   "id": "b4cb7bfa",
   "metadata": {},
   "outputs": [
    {
     "name": "stdout",
     "output_type": "stream",
     "text": [
      "Enter the length of the Fibonacci sequence: 7\n",
      "Fibonacci sequence of length 7 is:\n",
      "0 1 1 2 3 5 8 \n"
     ]
    }
   ],
   "source": [
    "#Problem-13: Write a program that generates a Fibonacci sequence of length `n`.\n",
    "\n",
    "# Generate a Fibonacci sequence of length n\n",
    "n = int(input(\"Enter the length of the Fibonacci sequence: \"))\n",
    "\n",
    "# Start with the first two numbers in the Fibonacci sequence\n",
    "a, b = 0, 1\n",
    "\n",
    "print(\"Fibonacci sequence of length\", n, \"is:\")\n",
    "\n",
    "# Generate the sequence\n",
    "for _ in range(n):\n",
    "    print(a, end=\" \")  # Print the current number\n",
    "    # Update a and b to the next numbers in the sequence\n",
    "    a, b = b, a + b\n",
    "\n",
    "print()  # Print a newline after the sequence\n"
   ]
  },
  {
   "cell_type": "code",
   "execution_count": 14,
   "id": "dececeb3",
   "metadata": {},
   "outputs": [
    {
     "name": "stdout",
     "output_type": "stream",
     "text": [
      "Enter a number: 43\n",
      "43 is a prime number.\n"
     ]
    }
   ],
   "source": [
    "#Problem-14: Write a program that checks if a given number is prime or not.\n",
    "\n",
    "# Input: Enter the number you want to check\n",
    "num = int(input(\"Enter a number: \"))\n",
    "\n",
    "# Check if the number is prime\n",
    "if num <= 1:\n",
    "    print(f\"{num} is not a prime number.\")\n",
    "else:\n",
    "    is_prime = True\n",
    "    for i in range(2, int(num ** 0.5) + 1):\n",
    "        if num % i == 0:\n",
    "            is_prime = False\n",
    "            break\n",
    "    if is_prime:\n",
    "        print(f\"{num} is a prime number.\")\n",
    "    else:\n",
    "        print(f\"{num} is not a prime number.\")\n"
   ]
  },
  {
   "cell_type": "code",
   "execution_count": 15,
   "id": "8c953c37",
   "metadata": {},
   "outputs": [
    {
     "name": "stdout",
     "output_type": "stream",
     "text": [
      "Enter a number: 5\n",
      "Multiplication table for 5:\n",
      "5 x 1 = 5\n",
      "5 x 2 = 10\n",
      "5 x 3 = 15\n",
      "5 x 4 = 20\n",
      "5 x 5 = 25\n",
      "5 x 6 = 30\n",
      "5 x 7 = 35\n",
      "5 x 8 = 40\n",
      "5 x 9 = 45\n",
      "5 x 10 = 50\n"
     ]
    }
   ],
   "source": [
    "#Problem-15: Write a program that prints the multiplication table of a given number.\n",
    "\n",
    "# Input: Enter the number for which you want to see the multiplication table\n",
    "num = int(input(\"Enter a number: \"))\n",
    "\n",
    "# Print the multiplication table\n",
    "print(f\"Multiplication table for {num}:\")\n",
    "for i in range(1, 11):\n",
    "    print(f\"{num} x {i} = {num * i}\")\n"
   ]
  },
  {
   "cell_type": "markdown",
   "id": "cdb84a4b",
   "metadata": {},
   "source": [
    "# While Loop Problem"
   ]
  },
  {
   "cell_type": "code",
   "execution_count": 16,
   "id": "befc2236",
   "metadata": {},
   "outputs": [
    {
     "name": "stdout",
     "output_type": "stream",
     "text": [
      "Enter a number n: 6\n",
      "The sum of all even numbers between 1 and 6 is: 12\n"
     ]
    }
   ],
   "source": [
    "#Problem-16: Write a program that finds the sum of all even numbers between 1 and `n`.\n",
    "\n",
    "# Input from the user\n",
    "n = int(input(\"Enter a number n: \"))\n",
    "sum_even = 0\n",
    "i = 1\n",
    "\n",
    "while i <= n:\n",
    "    if i % 2 == 0:\n",
    "        sum_even += i\n",
    "    i += 1\n",
    "\n",
    "print(f\"The sum of all even numbers between 1 and {n} is: {sum_even}\")"
   ]
  },
  {
   "cell_type": "code",
   "execution_count": 17,
   "id": "f07d9387",
   "metadata": {},
   "outputs": [
    {
     "name": "stdout",
     "output_type": "stream",
     "text": [
      "Enter a number: 575\n",
      "Reversed number is: 575\n"
     ]
    }
   ],
   "source": [
    "#Problem-17: Write a program that reverses a given number.\n",
    "\n",
    "# Input: Enter the number to reverse\n",
    "number = int(input(\"Enter a number: \"))\n",
    "\n",
    "# Initialize variables\n",
    "reversed_number = 0\n",
    "\n",
    "# Reverse the number\n",
    "while number > 0:\n",
    "    digit = number % 10\n",
    "    reversed_number = reversed_number * 10 + digit\n",
    "    number = number // 10\n",
    "\n",
    "# Output: Print the reversed number\n",
    "print(f\"Reversed number is: {reversed_number}\")"
   ]
  },
  {
   "cell_type": "code",
   "execution_count": 18,
   "id": "5002df78",
   "metadata": {},
   "outputs": [
    {
     "name": "stdout",
     "output_type": "stream",
     "text": [
      "Enter a string: ABBA\n",
      "ABBA is a palindrome.\n"
     ]
    }
   ],
   "source": [
    "#Problem-18: Write a program that checks if a given string, is a palindrome.\n",
    "\n",
    "# Input from the user\n",
    "string = input(\"Enter a string: \")\n",
    "original_string = string\n",
    "reversed_string = \"\"\n",
    "\n",
    "index = len(string) - 1\n",
    "\n",
    "while index >= 0:\n",
    "    reversed_string += string[index]\n",
    "    index -= 1\n",
    "\n",
    "if original_string == reversed_string:\n",
    "    print(f\"{original_string} is a palindrome.\")\n",
    "else:\n",
    "    print(f\"{original_string} is not a palindrome.\")"
   ]
  },
  {
   "cell_type": "code",
   "execution_count": 19,
   "id": "6cd20cb6",
   "metadata": {},
   "outputs": [
    {
     "name": "stdout",
     "output_type": "stream",
     "text": [
      "Enter first number (a): 48\n",
      "Enter second number (b): 18\n",
      "The greatest common divisor (GCD) is: 6\n"
     ]
    }
   ],
   "source": [
    "#Problem-19: Write a program that finds the greatest common divisor (GCD) of two numbers.\n",
    "\n",
    "# Input from the user\n",
    "a = int(input(\"Enter first number (a): \"))\n",
    "b = int(input(\"Enter second number (b): \"))\n",
    "\n",
    "while b != 0:\n",
    "    temp = b\n",
    "    b = a % b\n",
    "    a = temp\n",
    "\n",
    "print(f\"The greatest common divisor (GCD) is: {a}\")\n"
   ]
  },
  {
   "cell_type": "code",
   "execution_count": 20,
   "id": "980d8fd7",
   "metadata": {},
   "outputs": [
    {
     "name": "stdout",
     "output_type": "stream",
     "text": [
      "Guess the number between 1 and 100!\n",
      "Enter your guess: 40\n",
      "Too high! Try again.\n",
      "Enter your guess: 20\n",
      "Too low! Try again.\n",
      "Enter your guess: 30\n",
      "Too low! Try again.\n",
      "Enter your guess: 35\n",
      "Too high! Try again.\n",
      "Enter your guess: 32\n",
      "Too high! Try again.\n",
      "Enter your guess: 31\n",
      "Congratulations! You've guessed the correct number! \n"
     ]
    }
   ],
   "source": [
    "#Problem-20: Write a program that generates a random number and allows the user to guess it.\n",
    "\n",
    "import random\n",
    "\n",
    "# Generate a random number between 1 and 100\n",
    "random_number = random.randint(1, 100)\n",
    "guess = 0\n",
    "\n",
    "print(\"Guess the number between 1 and 100!\")\n",
    "\n",
    "while guess != random_number:\n",
    "    guess = int(input(\"Enter your guess: \"))\n",
    "    \n",
    "    if guess < random_number:\n",
    "        print(\"Too low! Try again.\")\n",
    "    elif guess > random_number:\n",
    "        print(\"Too high! Try again.\")\n",
    "\n",
    "print(\"Congratulations! You've guessed the correct number! \")"
   ]
  },
  {
   "cell_type": "code",
   "execution_count": null,
   "id": "b077c422",
   "metadata": {},
   "outputs": [],
   "source": []
  }
 ],
 "metadata": {
  "kernelspec": {
   "display_name": "Python 3 (ipykernel)",
   "language": "python",
   "name": "python3"
  },
  "language_info": {
   "codemirror_mode": {
    "name": "ipython",
    "version": 3
   },
   "file_extension": ".py",
   "mimetype": "text/x-python",
   "name": "python",
   "nbconvert_exporter": "python",
   "pygments_lexer": "ipython3",
   "version": "3.11.4"
  }
 },
 "nbformat": 4,
 "nbformat_minor": 5
}
